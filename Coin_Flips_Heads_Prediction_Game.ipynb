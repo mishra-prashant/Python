{
 "cells": [
  {
   "cell_type": "code",
   "execution_count": 1,
   "metadata": {},
   "outputs": [
    {
     "name": "stdout",
     "output_type": "stream",
     "text": [
      "I will flip a coin 1000 times. Guess how many times it will come up heads. (Press enter to begin)\n",
      "> 500\n",
      "At 100 tosses, heads has come up  57  times so far.\n",
      "Half way done, and heads has come up 234 times.\n",
      "900 flips and there have been 432 heads.\n",
      "Out of 1000 coin tosses, heads came up 484 times!\n",
      "Were you close?\n"
     ]
    }
   ],
   "source": [
    "import random\n",
    "import time\n",
    "\n",
    "print('I will flip a coin 1000 times. Guess how many times it will come up heads. (Press enter to begin)')\n",
    "input('> ')\n",
    "flips = 0\n",
    "heads = 0\n",
    "while flips < 1000:\n",
    "    if random.randint(0, 1) == 1:\n",
    "        heads = heads + 1\n",
    "    flips = flips + 1\n",
    "    if flips == 100:\n",
    "        print('At 100 tosses, heads has come up ', heads,  ' times so far.')\n",
    "        time.sleep(2)\n",
    "    if flips == 500:\n",
    "        print('Half way done, and heads has come up ' + str(heads) + ' times.')\n",
    "        time.sleep(2)\n",
    "    if flips == 900:\n",
    "        print('900 flips and there have been ' + str(heads) + ' heads.')\n",
    "        time.sleep(2)\n",
    "\n",
    "print('Out of 1000 coin tosses, heads came up ' + str(heads) + ' times!')\n",
    "print('Were you close?')"
   ]
  },
  {
   "cell_type": "code",
   "execution_count": null,
   "metadata": {},
   "outputs": [],
   "source": []
  }
 ],
 "metadata": {
  "kernelspec": {
   "display_name": "Python 3",
   "language": "python",
   "name": "python3"
  },
  "language_info": {
   "codemirror_mode": {
    "name": "ipython",
    "version": 3
   },
   "file_extension": ".py",
   "mimetype": "text/x-python",
   "name": "python",
   "nbconvert_exporter": "python",
   "pygments_lexer": "ipython3",
   "version": "3.6.5"
  }
 },
 "nbformat": 4,
 "nbformat_minor": 2
}
