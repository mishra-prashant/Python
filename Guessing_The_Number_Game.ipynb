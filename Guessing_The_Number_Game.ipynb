{
 "cells": [
  {
   "cell_type": "code",
   "execution_count": 1,
   "metadata": {},
   "outputs": [],
   "source": [
    "from random import randint"
   ]
  },
  {
   "cell_type": "code",
   "execution_count": 2,
   "metadata": {},
   "outputs": [],
   "source": [
    "#Asking the user a number\n",
    "def ask_a_number():\n",
    "    playernumber = int(input('Guess a number: '))\n",
    "    return playernumber"
   ]
  },
  {
   "cell_type": "code",
   "execution_count": 3,
   "metadata": {},
   "outputs": [],
   "source": [
    "#Comparing the numbers and giving hints to the player about the right number\n",
    "def compare_2_nos(num1, num2):\n",
    "    if (num1 < num2):\n",
    "        if abs(num1 - num2) > 3:\n",
    "            print('Your number is too low')\n",
    "        else:\n",
    "            print ('Your number is slightly low')\n",
    "    if (num1 > num2):\n",
    "        if abs(num1 - num2) > 3:\n",
    "            print('Your number is too high')\n",
    "        else:\n",
    "            print ('Your number is slightly high')"
   ]
  },
  {
   "cell_type": "code",
   "execution_count": 15,
   "metadata": {},
   "outputs": [
    {
     "name": "stdout",
     "output_type": "stream",
     "text": [
      "Enter your name: Prashant\n",
      "Hi Prashant! Lets play the Guessing a number between 1 to 100 game. You have 3 chances to guess it right\n",
      "Guess a number: 34\n",
      "Your number is too low\n",
      "Guess a number: 34\n",
      "Your number is too low\n",
      "Guess a number: 34\n",
      "You have have exceeded the number of trials allowed for this game\n",
      "The correct number was 56\n"
     ]
    }
   ],
   "source": [
    "##### Running the Guess the number game\n",
    "name = input('Enter your name: ')\n",
    "print (f'Hi {name}! Lets play the Guessing a number between 1 to 100 game. You have 3 chances to guess it right')\n",
    "num1 = ask_a_number()\n",
    "count_trials = 1\n",
    "num2 = randint(1,100)\n",
    "while count_trials < 3:\n",
    "    if num1 != num2:\n",
    "        compare_2_nos(num1, num2)\n",
    "        num1 = ask_a_number() \n",
    "        count_trials += 1\n",
    "    else:\n",
    "        print (\"Great {}! you guessed the number right in {} guesses\".format(name, count_trials))\n",
    "        break\n",
    "else: \n",
    "    print (\"You have have exceeded the number of trials allowed for this game\")\n",
    "    print ('The correct number was', num2 )"
   ]
  }
 ],
 "metadata": {
  "kernelspec": {
   "display_name": "Python 3",
   "language": "python",
   "name": "python3"
  },
  "language_info": {
   "codemirror_mode": {
    "name": "ipython",
    "version": 3
   },
   "file_extension": ".py",
   "mimetype": "text/x-python",
   "name": "python",
   "nbconvert_exporter": "python",
   "pygments_lexer": "ipython3",
   "version": "3.6.5"
  }
 },
 "nbformat": 4,
 "nbformat_minor": 2
}
