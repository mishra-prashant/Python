{
 "cells": [
  {
   "cell_type": "code",
   "execution_count": 3,
   "metadata": {},
   "outputs": [],
   "source": [
    "from random import randint\n",
    "import time"
   ]
  },
  {
   "cell_type": "code",
   "execution_count": 11,
   "metadata": {},
   "outputs": [],
   "source": [
    "def cave_choice():\n",
    "    cave = ''\n",
    "    while cave !='1' and cave !='2':\n",
    "        cave = input('Which cave do you want to enter? Cave 1 or Cave 2')\n",
    "    return int(cave)"
   ]
  },
  {
   "cell_type": "code",
   "execution_count": 12,
   "metadata": {},
   "outputs": [
    {
     "name": "stdout",
     "output_type": "stream",
     "text": [
      "Which cave do you want to enter? Cave 1 or Cave 21\n",
      "You approach the cave...\n",
      "It is dark and spooky...\n",
      "A large dragon jumps out in front of you! He opens his jaws and...\n",
      "Gobbles you down in one bite!\n",
      "Do you want to play again. Type 'Yes' or 'No'No\n"
     ]
    }
   ],
   "source": [
    "def play_game():\n",
    "    play_again = 'Yes'\n",
    "    while play_again == 'Yes':\n",
    "        computer = randint(1,2)\n",
    "        user_choice = cave_choice()\n",
    "        print ('You approach the cave...')\n",
    "        time.sleep(2)\n",
    "        print('It is dark and spooky...')\n",
    "        time.sleep(2)\n",
    "        print('A large dragon jumps out in front of you! He opens his jaws and...')\n",
    "        time.sleep(2)        \n",
    "        if computer == user_choice:\n",
    "            print('Gives you his treasure!')\n",
    "        else:\n",
    "            print('Gobbles you down in one bite!')\n",
    "        play_again= input(\"Do you want to play again. Type 'Yes' or 'No'\")\n",
    "play_game()"
   ]
  }
 ],
 "metadata": {
  "kernelspec": {
   "display_name": "Python 3",
   "language": "python",
   "name": "python3"
  },
  "language_info": {
   "codemirror_mode": {
    "name": "ipython",
    "version": 3
   },
   "file_extension": ".py",
   "mimetype": "text/x-python",
   "name": "python",
   "nbconvert_exporter": "python",
   "pygments_lexer": "ipython3",
   "version": "3.6.5"
  }
 },
 "nbformat": 4,
 "nbformat_minor": 2
}
